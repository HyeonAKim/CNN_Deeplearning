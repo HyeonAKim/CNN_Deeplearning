{
 "cells": [
  {
   "cell_type": "code",
   "execution_count": 5,
   "metadata": {
    "collapsed": true
   },
   "outputs": [
    {
     "name": "stdout",
     "output_type": "stream",
     "text": [
      "Found 280 images belonging to 4 classes.\n"
     ]
    },
    {
     "ename": "AttributeError",
     "evalue": "'DirectoryIterator' object has no attribute 'shape'",
     "traceback": [
      "\u001b[1;31m---------------------------------------------------------------------------\u001b[0m",
      "\u001b[1;31mAttributeError\u001b[0m                            Traceback (most recent call last)",
      "\u001b[1;32m<ipython-input-5-e1c2cfe69430>\u001b[0m in \u001b[0;36m<module>\u001b[1;34m()\u001b[0m\n\u001b[0;32m     37\u001b[0m \u001b[1;33m\u001b[0m\u001b[0m\n\u001b[0;32m     38\u001b[0m \u001b[1;31m## 3. 이미지 데이터 확인하기\u001b[0m\u001b[1;33m\u001b[0m\u001b[1;33m\u001b[0m\u001b[0m\n\u001b[1;32m---> 39\u001b[1;33m \u001b[0mprint\u001b[0m\u001b[1;33m(\u001b[0m\u001b[0mgenerator\u001b[0m\u001b[1;33m.\u001b[0m\u001b[0mshape\u001b[0m\u001b[1;33m)\u001b[0m\u001b[1;33m\u001b[0m\u001b[0m\n\u001b[0m\u001b[0;32m     40\u001b[0m \u001b[1;33m\u001b[0m\u001b[0m\n\u001b[0;32m     41\u001b[0m \u001b[1;33m\u001b[0m\u001b[0m\n",
      "\u001b[1;31mAttributeError\u001b[0m: 'DirectoryIterator' object has no attribute 'shape'"
     ],
     "output_type": "error"
    }
   ],
   "source": [
    "## 필요한 라이브러리\n",
    "from keras import applications\n",
    "from keras.preprocessing.image import ImageDataGenerator\n",
    "from keras import optimizers\n",
    "from keras.models import Sequential\n",
    "from keras.layers import Dropout,Flatten,Dense\n",
    "import numpy as np\n",
    "import math\n",
    "from keras.utils import np_utils\n",
    "from keras.callbacks import ModelCheckpoint, EarlyStopping\n",
    "import os\n",
    "%matplotlib inline\n",
    "\n",
    "## 1. 이미지 데이터 셋팅 \n",
    "img_width, img_height = 256  , 256\n",
    "\n",
    "train_data_dir = 'C:\\\\Users\\\\HyunA\\\\PycharmProjects\\\\CNN_Deeplearning\\\\Data\\\\Dataset\\\\Bearing\\\\train'\n",
    "test_date_dir = 'C:\\\\Users\\\\HyunA\\\\PycharmProjects\\\\CNN_Deeplearning\\\\Data\\\\Dataset\\\\Bearing\\\\test'\n",
    "nb_train_samples  = 280\n",
    "nb_test_samples = 120\n",
    "\n",
    "epochs = 100\n",
    "batch_size=10\n",
    "\n",
    "predict_size_train = int(math.ceil(nb_train_samples / batch_size))\n",
    "predict_size_test = int(math.ceil(nb_test_samples / batch_size))\n",
    "\n",
    "## 2. 이미지 데이터 불러오기 \n",
    "datagen = ImageDataGenerator(rescale=1. / 255)\n",
    "generator = datagen.flow_from_directory(\n",
    "        train_data_dir,\n",
    "        target_size=(img_width, img_height),\n",
    "        batch_size=batch_size,\n",
    "        class_mode=None,\n",
    "        shuffle=False\n",
    "    )\n",
    "\n",
    "# # Returns\n",
    "#             A DirectoryIterator yielding tuples of `(x, y)` where `x` is a nu                                                                                            mpy array containing a batch\n",
    "#             of images with shape `(batch_size, *target_size, channels)` and `y` is a numpy array of corresponding labels.\n",
    "\\\n",
    "\n",
    "## 3. 이미지 데이터 확인하기 \n",
    " print(generator)\n",
    "\n",
    "\n",
    "# plt.figure(figsize=[5,5])\n",
    "# \n",
    "# # display the first image in training data\n",
    "# plt.subplot(121)\n",
    "# curr_img = np.reshape(generator[1],(28,28))\n",
    "# plt.imshow(curr_img, cmap='gray')\n",
    "# \n",
    "# # # display the first image in testing data\n",
    "# # plt.subplot(122)\n",
    "# # curr_img = np.reshape(x_test_noisy[1],(28,28))\n",
    "# # plt.imshow(curr_img, cmap='gray')\n",
    "# \n",
    "# print(train_labels_categorical)"
   ]
  }
 ],
 "metadata": {
  "kernelspec": {
   "display_name": "Python 2",
   "language": "python",
   "name": "python2"
  },
  "language_info": {
   "codemirror_mode": {
    "name": "ipython",
    "version": 2
   },
   "file_extension": ".py",
   "mimetype": "text/x-python",
   "name": "python",
   "nbconvert_exporter": "python",
   "pygments_lexer": "ipython2",
   "version": "2.7.6"
  }
 },
 "nbformat": 4,
 "nbformat_minor": 0
}
